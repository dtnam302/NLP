{
  "nbformat": 4,
  "nbformat_minor": 0,
  "metadata": {
    "colab": {
      "name": "Text-Gen-RNN.ipynb",
      "provenance": [],
      "collapsed_sections": [],
      "authorship_tag": "ABX9TyNS9kTHaqWxtPXQdLVMZ7zq",
      "include_colab_link": true
    },
    "kernelspec": {
      "name": "python3",
      "display_name": "Python 3"
    },
    "language_info": {
      "name": "python"
    },
    "accelerator": "GPU"
  },
  "cells": [
    {
      "cell_type": "markdown",
      "metadata": {
        "id": "view-in-github",
        "colab_type": "text"
      },
      "source": [
        "<a href=\"https://colab.research.google.com/github/dtnam302/NLP/blob/main/Text_Gen_RNN.ipynb\" target=\"_parent\"><img src=\"https://colab.research.google.com/assets/colab-badge.svg\" alt=\"Open In Colab\"/></a>"
      ]
    },
    {
      "cell_type": "markdown",
      "source": [
        "###Download a book -> style of text gen"
      ],
      "metadata": {
        "id": "20ySlJ8e6n0q"
      }
    },
    {
      "cell_type": "code",
      "execution_count": 1,
      "metadata": {
        "colab": {
          "base_uri": "https://localhost:8080/"
        },
        "id": "KyB-OFEh6kGC",
        "outputId": "555aadf7-7eea-4f7c-ab3f-37937eff8f20"
      },
      "outputs": [
        {
          "output_type": "stream",
          "name": "stdout",
          "text": [
            "--2022-03-26 04:35:49--  https://www.gutenberg.org/cache/epub/21717/pg21717.txt\n",
            "Resolving www.gutenberg.org (www.gutenberg.org)... 152.19.134.47, 2610:28:3090:3000:0:bad:cafe:47\n",
            "Connecting to www.gutenberg.org (www.gutenberg.org)|152.19.134.47|:443... connected.\n",
            "HTTP request sent, awaiting response... 200 OK\n",
            "Length: 157279 (154K) [text/plain]\n",
            "Saving to: ‘pg21717.txt’\n",
            "\n",
            "pg21717.txt         100%[===================>] 153.59K  --.-KB/s    in 0.07s   \n",
            "\n",
            "2022-03-26 04:35:50 (2.16 MB/s) - ‘pg21717.txt’ saved [157279/157279]\n",
            "\n"
          ]
        }
      ],
      "source": [
        "!wget https://www.gutenberg.org/cache/epub/21717/pg21717.txt"
      ]
    },
    {
      "cell_type": "code",
      "source": [
        "file = open('/content/pg21717.txt')\n",
        "text = file.read()\n",
        "file.close()\n",
        "print(text[:500])"
      ],
      "metadata": {
        "colab": {
          "base_uri": "https://localhost:8080/"
        },
        "id": "2HfSKopo63G6",
        "outputId": "ca90e9a0-1a0a-4095-9f6d-c423ce03d8fb"
      },
      "execution_count": 2,
      "outputs": [
        {
          "output_type": "stream",
          "name": "stdout",
          "text": [
            "﻿The Project Gutenberg EBook of Battles with the Sea, by R.M. Ballantyne\n",
            "\n",
            "This eBook is for the use of anyone anywhere at no cost and with\n",
            "almost no restrictions whatsoever.  You may copy it, give it away or\n",
            "re-use it under the terms of the Project Gutenberg License included\n",
            "with this eBook or online at www.gutenberg.org\n",
            "\n",
            "\n",
            "Title: Battles with the Sea\n",
            "\n",
            "Author: R.M. Ballantyne\n",
            "\n",
            "Release Date: June 7, 2007 [EBook #21717]\n",
            "\n",
            "Language: English\n",
            "\n",
            "\n",
            "*** START OF THIS PROJECT GUTENBERG EBOOK BATTLES WITH THE\n"
          ]
        }
      ]
    },
    {
      "cell_type": "markdown",
      "source": [
        "###Preprocessing using nltk"
      ],
      "metadata": {
        "id": "N08sdTEh-dJ_"
      }
    },
    {
      "cell_type": "code",
      "source": [
        "import nltk\n",
        "nltk.download('punkt')\n",
        "nltk.download('stopwords')"
      ],
      "metadata": {
        "colab": {
          "base_uri": "https://localhost:8080/"
        },
        "id": "G5TF3m99NGYX",
        "outputId": "5d750623-46ed-4abb-9ca9-35d9ef804d73"
      },
      "execution_count": 3,
      "outputs": [
        {
          "output_type": "stream",
          "name": "stdout",
          "text": [
            "[nltk_data] Downloading package punkt to /root/nltk_data...\n",
            "[nltk_data]   Unzipping tokenizers/punkt.zip.\n",
            "[nltk_data] Downloading package stopwords to /root/nltk_data...\n",
            "[nltk_data]   Unzipping corpora/stopwords.zip.\n"
          ]
        },
        {
          "output_type": "execute_result",
          "data": {
            "text/plain": [
              "True"
            ]
          },
          "metadata": {},
          "execution_count": 3
        }
      ]
    },
    {
      "cell_type": "markdown",
      "source": [
        "Các tokens ở trên đều là các tokens ở dạng thô, do đó để có một training data tốt hơn, chúng ta cần phải thực hiện một số bước Data cleaning như sau:\n",
        "\n",
        "– Thay dấu ‘-’ và ‘–’ trong các từ như  manne–only, we–especially, land–are, sea-coast, … bằng space để tách các từ này thành các từ độc lập.\n",
        "\n",
        "– Loại bỏ các dấu câu có trong các từ như: ‘wanting.’,’brave,’,’sea.’,..\n",
        "\n",
        "– Chỉ giữ lại các từ mà tất cả các ký tự đều là alphabets\n",
        "\n",
        "– Chuyển tất cả các từ về dạng lowercase\n",
        "\n",
        "Tham khảo : https://machinelearningmastery.com/clean-text-machine-learning-python/"
      ],
      "metadata": {
        "id": "1ZiJSPNU_3Dp"
      }
    },
    {
      "cell_type": "code",
      "source": [
        "from nltk.corpus import stopwords\n",
        "stop_words = stopwords.words('english')\n",
        "print(stop_words)"
      ],
      "metadata": {
        "colab": {
          "base_uri": "https://localhost:8080/"
        },
        "id": "Wv0gdDLuPQSo",
        "outputId": "9b10a126-b67b-46ce-e33b-e5b254b35476"
      },
      "execution_count": 4,
      "outputs": [
        {
          "output_type": "stream",
          "name": "stdout",
          "text": [
            "['i', 'me', 'my', 'myself', 'we', 'our', 'ours', 'ourselves', 'you', \"you're\", \"you've\", \"you'll\", \"you'd\", 'your', 'yours', 'yourself', 'yourselves', 'he', 'him', 'his', 'himself', 'she', \"she's\", 'her', 'hers', 'herself', 'it', \"it's\", 'its', 'itself', 'they', 'them', 'their', 'theirs', 'themselves', 'what', 'which', 'who', 'whom', 'this', 'that', \"that'll\", 'these', 'those', 'am', 'is', 'are', 'was', 'were', 'be', 'been', 'being', 'have', 'has', 'had', 'having', 'do', 'does', 'did', 'doing', 'a', 'an', 'the', 'and', 'but', 'if', 'or', 'because', 'as', 'until', 'while', 'of', 'at', 'by', 'for', 'with', 'about', 'against', 'between', 'into', 'through', 'during', 'before', 'after', 'above', 'below', 'to', 'from', 'up', 'down', 'in', 'out', 'on', 'off', 'over', 'under', 'again', 'further', 'then', 'once', 'here', 'there', 'when', 'where', 'why', 'how', 'all', 'any', 'both', 'each', 'few', 'more', 'most', 'other', 'some', 'such', 'no', 'nor', 'not', 'only', 'own', 'same', 'so', 'than', 'too', 'very', 's', 't', 'can', 'will', 'just', 'don', \"don't\", 'should', \"should've\", 'now', 'd', 'll', 'm', 'o', 're', 've', 'y', 'ain', 'aren', \"aren't\", 'couldn', \"couldn't\", 'didn', \"didn't\", 'doesn', \"doesn't\", 'hadn', \"hadn't\", 'hasn', \"hasn't\", 'haven', \"haven't\", 'isn', \"isn't\", 'ma', 'mightn', \"mightn't\", 'mustn', \"mustn't\", 'needn', \"needn't\", 'shan', \"shan't\", 'shouldn', \"shouldn't\", 'wasn', \"wasn't\", 'weren', \"weren't\", 'won', \"won't\", 'wouldn', \"wouldn't\"]\n"
          ]
        }
      ]
    },
    {
      "cell_type": "code",
      "source": [
        "# split into words\n",
        "from nltk.tokenize import word_tokenize\n",
        "tokens = word_tokenize(text)[1:] #remove utf-8 decode\n",
        "# convert to lower case\n",
        "tokens = [w.lower() for w in tokens]\n",
        "# remove punctuation from each word\n",
        "import string\n",
        "table = str.maketrans('', '', string.punctuation)\n",
        "stripped = [w.translate(table) for w in tokens]\n",
        "# remove remaining tokens that are not alphabetic\n",
        "words = [word for word in stripped if word.isalpha()]\n",
        "# filter out stop words\n",
        "from nltk.corpus import stopwords\n",
        "stop_words = set(stopwords.words('english'))\n",
        "words = [w for w in words if not w in stop_words]\n",
        "print(words[:100])"
      ],
      "metadata": {
        "colab": {
          "base_uri": "https://localhost:8080/"
        },
        "id": "3fTVDbbeSopN",
        "outputId": "7a13928c-a6f1-4711-c949-c315be4e3a5a"
      },
      "execution_count": 5,
      "outputs": [
        {
          "output_type": "stream",
          "name": "stdout",
          "text": [
            "['project', 'gutenberg', 'ebook', 'battles', 'sea', 'rm', 'ballantyne', 'ebook', 'use', 'anyone', 'anywhere', 'cost', 'almost', 'restrictions', 'whatsoever', 'may', 'copy', 'give', 'away', 'reuse', 'terms', 'project', 'gutenberg', 'license', 'included', 'ebook', 'online', 'wwwgutenbergorg', 'title', 'battles', 'sea', 'author', 'rm', 'ballantyne', 'release', 'date', 'june', 'ebook', 'language', 'english', 'start', 'project', 'gutenberg', 'ebook', 'battles', 'sea', 'produced', 'nick', 'hodson', 'london', 'england', 'battles', 'sea', 'rm', 'ballantyne', 'chapter', 'one', 'heroes', 'lifeboat', 'rocket', 'skirmishes', 'subject', 'generally', 'ought', 'known', 'english', 'boys', 'terrible', 'costly', 'war', 'british', 'nation', 'times', 'engaged', 'intervals', 'peace', 'mark', 'course', 'war', 'cessations', 'hostilities', 'brief', 'periods', 'treaties', 'peace', 'war', 'knife', 'character', 'quarter', 'neither', 'given', 'sought', 'foe', 'unfeeling', 'unrelenting', 'wastes', 'time', 'diplomatic', 'preliminaries', 'scorns']\n"
          ]
        }
      ]
    },
    {
      "cell_type": "markdown",
      "source": [
        "###Build vocab using Keras\n",
        "Vocab nghĩa là map mỗi từ vựng với index"
      ],
      "metadata": {
        "id": "Q80Lp8y4MyTA"
      }
    },
    {
      "cell_type": "code",
      "source": [
        "vocab_size = len(set(words))+1 #token oov\n",
        "vocab_size"
      ],
      "metadata": {
        "colab": {
          "base_uri": "https://localhost:8080/"
        },
        "id": "tDAtvtatVCM8",
        "outputId": "1fa88f24-82c6-4332-9daf-db89ae9e4429"
      },
      "execution_count": 6,
      "outputs": [
        {
          "output_type": "execute_result",
          "data": {
            "text/plain": [
              "3988"
            ]
          },
          "metadata": {},
          "execution_count": 6
        }
      ]
    },
    {
      "cell_type": "code",
      "source": [
        "from tensorflow.keras.preprocessing.text import Tokenizer"
      ],
      "metadata": {
        "id": "nvJcq6K27Xtd"
      },
      "execution_count": 7,
      "outputs": []
    },
    {
      "cell_type": "code",
      "source": [
        "tokenizer = Tokenizer(num_words = vocab_size,oov_token=\"<OOV>\")\n",
        "tokenizer.fit_on_texts(words)"
      ],
      "metadata": {
        "id": "H7RRnNeH-uY9"
      },
      "execution_count": 8,
      "outputs": []
    },
    {
      "cell_type": "code",
      "source": [
        "tokenizer.word_index"
      ],
      "metadata": {
        "id": "umE_clzTcDzM"
      },
      "execution_count": null,
      "outputs": []
    },
    {
      "cell_type": "code",
      "source": [
        "word2int_seq = [tokenizer.word_index[word] for word in words]\n",
        "print('The first ten words: ', words[:10])\n",
        "print('The corresponding int sequence: ', word2int_seq[:10])"
      ],
      "metadata": {
        "colab": {
          "base_uri": "https://localhost:8080/"
        },
        "id": "3SWhTFvVW-2n",
        "outputId": "e9760c7d-4751-4977-f169-d1fa2bfb3d7b"
      },
      "execution_count": 10,
      "outputs": [
        {
          "output_type": "stream",
          "name": "stdout",
          "text": [
            "The first ten words:  ['project', 'gutenberg', 'ebook', 'battles', 'sea', 'rm', 'ballantyne', 'ebook', 'use', 'anyone']\n",
            "The corresponding int sequence:  [7, 36, 201, 309, 8, 667, 668, 201, 160, 428]\n"
          ]
        }
      ]
    },
    {
      "cell_type": "markdown",
      "source": [
        "Input: 50 từ trước đó của words \n",
        "Output: Từ tiếp theo dưới dạng one_hot"
      ],
      "metadata": {
        "id": "wWzIPk46fZHV"
      }
    },
    {
      "cell_type": "code",
      "source": [
        "import numpy as np\n",
        "from tensorflow import keras\n",
        "\n",
        "# Set the sequence length\n",
        "seq_length=50\n",
        "\n",
        "# Convert the input data to a list of sequences\n",
        "inputSequences=list()\n",
        "outputs=list()\n",
        "\n",
        "for i in range(seq_length, len(word2int_seq)):\n",
        "  seq=word2int_seq[i-seq_length:i]\n",
        "  inputSequences.append(seq)\n",
        "  outputs.append(word2int_seq[i])\n",
        "  \n",
        "# Convert inputSequences to numpy array\n",
        "inputSequences= np.array(inputSequences)\n",
        "\n",
        "# One hot encode the output\n",
        "one_hot_outputs=keras.utils.to_categorical(outputs,num_classes=vocab_size+1) # hàm định nghĩa num_classes = max(outputs) +1\n",
        "\n",
        "print('Shape of inputSequences: ', inputSequences.shape)\n",
        "print('Shape of outputs: ', one_hot_outputs.shape)\n",
        "\n",
        "print('\\nThe first input : ')\n",
        "print('Text format: ',words[:seq_length])\n",
        "print('Int format: ',inputSequences[0])\n",
        "\n",
        "print('\\nThe Expected output : ')\n",
        "print('One hot encoding format: ',one_hot_outputs[0])\n",
        "print('One hot encoding shape: ',one_hot_outputs[0].shape)\n",
        "print('Int format: ',outputs[0])\n",
        "print('Text format: ',tokenizer.index_word[outputs[0]])"
      ],
      "metadata": {
        "colab": {
          "base_uri": "https://localhost:8080/"
        },
        "id": "0-rE-86mZ8nX",
        "outputId": "84726fa1-1ab4-4b3f-cf16-703d4546e5f2"
      },
      "execution_count": 22,
      "outputs": [
        {
          "output_type": "stream",
          "name": "stdout",
          "text": [
            "Shape of inputSequences:  (13267, 50)\n",
            "Shape of outputs:  (13267, 3989)\n",
            "\n",
            "The first input : \n",
            "Text format:  ['project', 'gutenberg', 'ebook', 'battles', 'sea', 'rm', 'ballantyne', 'ebook', 'use', 'anyone', 'anywhere', 'cost', 'almost', 'restrictions', 'whatsoever', 'may', 'copy', 'give', 'away', 'reuse', 'terms', 'project', 'gutenberg', 'license', 'included', 'ebook', 'online', 'wwwgutenbergorg', 'title', 'battles', 'sea', 'author', 'rm', 'ballantyne', 'release', 'date', 'june', 'ebook', 'language', 'english', 'start', 'project', 'gutenberg', 'ebook', 'battles', 'sea', 'produced', 'nick', 'hodson', 'london']\n",
            "Int format:  [   7   36  201  309    8  667  668  201  160  428 1236  536   83 1237\n",
            " 1238   17  140  141   38 1239   67    7   36  119  892  201  669  670\n",
            " 1240  309    8 1961  667  668 1962  671 1963  201 1964  537  893    7\n",
            "   36  201  309    8  672 1241 1242  538]\n",
            "\n",
            "The Expected output : \n",
            "One hot encoding format:  [0. 0. 0. ... 0. 0. 0.]\n",
            "One hot encoding shape:  (3989,)\n",
            "Int format:  429\n",
            "Text format:  england\n"
          ]
        }
      ]
    },
    {
      "cell_type": "markdown",
      "source": [
        "###Build Model"
      ],
      "metadata": {
        "id": "14vJ_VEYfSQ1"
      }
    },
    {
      "cell_type": "code",
      "source": [
        "# Define the dimension of embedding\n",
        "embedding_dim=50\n",
        "lstm1_unit=64\n",
        "lstm2_unit=128\n",
        "hiden1=128\n",
        "\n",
        "# Build a model using keras.Sequential()\n",
        "model=keras.Sequential()\n",
        "\n",
        "# Add an Embedding layer\n",
        "model.add(keras.layers.Embedding(input_dim=vocab_size,output_dim=embedding_dim,input_length=seq_length))\n",
        "\n",
        "# Add a LSTM layer using CuDNNLSTM for GPU training\n",
        "# We have to set return_sequences=True for the second LSTM layer\n",
        "model.add(keras.layers.LSTM(units=lstm1_unit,return_sequences=True))\n",
        "\n",
        "# Add the second LSTM layer\n",
        "model.add(keras.layers.LSTM(units=lstm2_unit))\n",
        "\n",
        "# Add a Dense layer\n",
        "model.add(keras.layers.Dense(hiden1,activation='relu'))\n",
        "\n",
        "# Add  the output layer\n",
        "model.add(keras.layers.Dense(vocab_size+1,activation='softmax')) \n",
        "\n",
        "# Display model summary\n",
        "print(model.summary())"
      ],
      "metadata": {
        "colab": {
          "base_uri": "https://localhost:8080/"
        },
        "id": "0E14k5BDeTcs",
        "outputId": "120f4446-c78c-411c-bac7-2d04acc3152b"
      },
      "execution_count": 23,
      "outputs": [
        {
          "output_type": "stream",
          "name": "stdout",
          "text": [
            "Model: \"sequential_2\"\n",
            "_________________________________________________________________\n",
            " Layer (type)                Output Shape              Param #   \n",
            "=================================================================\n",
            " embedding_2 (Embedding)     (None, 50, 50)            199400    \n",
            "                                                                 \n",
            " lstm_2 (LSTM)               (None, 50, 64)            29440     \n",
            "                                                                 \n",
            " lstm_3 (LSTM)               (None, 128)               98816     \n",
            "                                                                 \n",
            " dense_2 (Dense)             (None, 128)               16512     \n",
            "                                                                 \n",
            " dense_3 (Dense)             (None, 3989)              514581    \n",
            "                                                                 \n",
            "=================================================================\n",
            "Total params: 858,749\n",
            "Trainable params: 858,749\n",
            "Non-trainable params: 0\n",
            "_________________________________________________________________\n",
            "None\n"
          ]
        }
      ]
    },
    {
      "cell_type": "code",
      "source": [
        "# Compile the model\n",
        "model.compile(optimizer=keras.optimizers.Adam(lr=0.01), loss='categorical_crossentropy', metrics=['accuracy'])\n",
        " \n",
        "# Start training\n",
        "model.fit(inputSequences, one_hot_outputs, batch_size=128, epochs=150)"
      ],
      "metadata": {
        "colab": {
          "base_uri": "https://localhost:8080/"
        },
        "id": "Dn2l-u5gg17Z",
        "outputId": "29075906-a119-4b1a-f70e-2902fb3ab814"
      },
      "execution_count": 24,
      "outputs": [
        {
          "output_type": "stream",
          "name": "stdout",
          "text": [
            "Epoch 1/150\n"
          ]
        },
        {
          "output_type": "stream",
          "name": "stderr",
          "text": [
            "/usr/local/lib/python3.7/dist-packages/keras/optimizer_v2/adam.py:105: UserWarning: The `lr` argument is deprecated, use `learning_rate` instead.\n",
            "  super(Adam, self).__init__(name, **kwargs)\n"
          ]
        },
        {
          "output_type": "stream",
          "name": "stdout",
          "text": [
            "104/104 [==============================] - 9s 15ms/step - loss: 7.9398 - accuracy: 0.0110\n",
            "Epoch 2/150\n",
            "104/104 [==============================] - 1s 14ms/step - loss: 7.6189 - accuracy: 0.0133\n",
            "Epoch 3/150\n",
            "104/104 [==============================] - 1s 14ms/step - loss: 7.4829 - accuracy: 0.0163\n",
            "Epoch 4/150\n",
            "104/104 [==============================] - 1s 14ms/step - loss: 7.3229 - accuracy: 0.0215\n",
            "Epoch 5/150\n",
            "104/104 [==============================] - 1s 14ms/step - loss: 7.2094 - accuracy: 0.0219\n",
            "Epoch 6/150\n",
            "104/104 [==============================] - 1s 14ms/step - loss: 7.1449 - accuracy: 0.0228\n",
            "Epoch 7/150\n",
            "104/104 [==============================] - 1s 14ms/step - loss: 7.0337 - accuracy: 0.0216\n",
            "Epoch 8/150\n",
            "104/104 [==============================] - 1s 14ms/step - loss: 6.9157 - accuracy: 0.0230\n",
            "Epoch 9/150\n",
            "104/104 [==============================] - 1s 14ms/step - loss: 6.7960 - accuracy: 0.0253\n",
            "Epoch 10/150\n",
            "104/104 [==============================] - 1s 14ms/step - loss: 6.6852 - accuracy: 0.0271\n",
            "Epoch 11/150\n",
            "104/104 [==============================] - 1s 14ms/step - loss: 6.5795 - accuracy: 0.0262\n",
            "Epoch 12/150\n",
            "104/104 [==============================] - 1s 14ms/step - loss: 6.4803 - accuracy: 0.0298\n",
            "Epoch 13/150\n",
            "104/104 [==============================] - 1s 14ms/step - loss: 6.3800 - accuracy: 0.0314\n",
            "Epoch 14/150\n",
            "104/104 [==============================] - 1s 14ms/step - loss: 6.2785 - accuracy: 0.0348\n",
            "Epoch 15/150\n",
            "104/104 [==============================] - 1s 14ms/step - loss: 6.1544 - accuracy: 0.0383\n",
            "Epoch 16/150\n",
            "104/104 [==============================] - 1s 14ms/step - loss: 6.0413 - accuracy: 0.0406\n",
            "Epoch 17/150\n",
            "104/104 [==============================] - 1s 14ms/step - loss: 5.9407 - accuracy: 0.0455\n",
            "Epoch 18/150\n",
            "104/104 [==============================] - 1s 14ms/step - loss: 5.8065 - accuracy: 0.0505\n",
            "Epoch 19/150\n",
            "104/104 [==============================] - 1s 14ms/step - loss: 5.7097 - accuracy: 0.0530\n",
            "Epoch 20/150\n",
            "104/104 [==============================] - 1s 14ms/step - loss: 6.0655 - accuracy: 0.0434\n",
            "Epoch 21/150\n",
            "104/104 [==============================] - 1s 14ms/step - loss: 5.8488 - accuracy: 0.0522\n",
            "Epoch 22/150\n",
            "104/104 [==============================] - 1s 14ms/step - loss: 5.6213 - accuracy: 0.0589\n",
            "Epoch 23/150\n",
            "104/104 [==============================] - 1s 14ms/step - loss: 5.4020 - accuracy: 0.0686\n",
            "Epoch 24/150\n",
            "104/104 [==============================] - 1s 14ms/step - loss: 5.1983 - accuracy: 0.0830\n",
            "Epoch 25/150\n",
            "104/104 [==============================] - 1s 14ms/step - loss: 5.0138 - accuracy: 0.0924\n",
            "Epoch 26/150\n",
            "104/104 [==============================] - 1s 14ms/step - loss: 4.8993 - accuracy: 0.1016\n",
            "Epoch 27/150\n",
            "104/104 [==============================] - 1s 14ms/step - loss: 4.8559 - accuracy: 0.1048\n",
            "Epoch 28/150\n",
            "104/104 [==============================] - 1s 14ms/step - loss: 4.6387 - accuracy: 0.1212\n",
            "Epoch 29/150\n",
            "104/104 [==============================] - 1s 14ms/step - loss: 4.5215 - accuracy: 0.1339\n",
            "Epoch 30/150\n",
            "104/104 [==============================] - 1s 14ms/step - loss: 4.3412 - accuracy: 0.1563\n",
            "Epoch 31/150\n",
            "104/104 [==============================] - 1s 14ms/step - loss: 4.1659 - accuracy: 0.1707\n",
            "Epoch 32/150\n",
            "104/104 [==============================] - 1s 14ms/step - loss: 4.0400 - accuracy: 0.1878\n",
            "Epoch 33/150\n",
            "104/104 [==============================] - 1s 14ms/step - loss: 3.9039 - accuracy: 0.2071\n",
            "Epoch 34/150\n",
            "104/104 [==============================] - 1s 14ms/step - loss: 3.7562 - accuracy: 0.2281\n",
            "Epoch 35/150\n",
            "104/104 [==============================] - 1s 14ms/step - loss: 3.6512 - accuracy: 0.2419\n",
            "Epoch 36/150\n",
            "104/104 [==============================] - 1s 14ms/step - loss: 3.5177 - accuracy: 0.2619\n",
            "Epoch 37/150\n",
            "104/104 [==============================] - 1s 14ms/step - loss: 3.3965 - accuracy: 0.2838\n",
            "Epoch 38/150\n",
            "104/104 [==============================] - 1s 14ms/step - loss: 3.2341 - accuracy: 0.3026\n",
            "Epoch 39/150\n",
            "104/104 [==============================] - 1s 14ms/step - loss: 3.1502 - accuracy: 0.3222\n",
            "Epoch 40/150\n",
            "104/104 [==============================] - 1s 14ms/step - loss: 3.0246 - accuracy: 0.3370\n",
            "Epoch 41/150\n",
            "104/104 [==============================] - 1s 14ms/step - loss: 3.4900 - accuracy: 0.2849\n",
            "Epoch 42/150\n",
            "104/104 [==============================] - 1s 14ms/step - loss: 3.2734 - accuracy: 0.3089\n",
            "Epoch 43/150\n",
            "104/104 [==============================] - 1s 14ms/step - loss: 3.5554 - accuracy: 0.2885\n",
            "Epoch 44/150\n",
            "104/104 [==============================] - 1s 14ms/step - loss: 3.3026 - accuracy: 0.3149\n",
            "Epoch 45/150\n",
            "104/104 [==============================] - 1s 14ms/step - loss: 3.1147 - accuracy: 0.3494\n",
            "Epoch 46/150\n",
            "104/104 [==============================] - 1s 14ms/step - loss: 2.8418 - accuracy: 0.3885\n",
            "Epoch 47/150\n",
            "104/104 [==============================] - 2s 18ms/step - loss: 2.6691 - accuracy: 0.4226\n",
            "Epoch 48/150\n",
            "104/104 [==============================] - 2s 16ms/step - loss: 2.5497 - accuracy: 0.4495\n",
            "Epoch 49/150\n",
            "104/104 [==============================] - 1s 14ms/step - loss: 2.4542 - accuracy: 0.4639\n",
            "Epoch 50/150\n",
            "104/104 [==============================] - 1s 14ms/step - loss: 2.3264 - accuracy: 0.4875\n",
            "Epoch 51/150\n",
            "104/104 [==============================] - 1s 14ms/step - loss: 2.2016 - accuracy: 0.5090\n",
            "Epoch 52/150\n",
            "104/104 [==============================] - 1s 14ms/step - loss: 2.1773 - accuracy: 0.5171\n",
            "Epoch 53/150\n",
            "104/104 [==============================] - 1s 14ms/step - loss: 2.5470 - accuracy: 0.4417\n",
            "Epoch 54/150\n",
            "104/104 [==============================] - 1s 14ms/step - loss: 2.3199 - accuracy: 0.4843\n",
            "Epoch 55/150\n",
            "104/104 [==============================] - 1s 14ms/step - loss: 2.1773 - accuracy: 0.5121\n",
            "Epoch 56/150\n",
            "104/104 [==============================] - 1s 14ms/step - loss: 2.0666 - accuracy: 0.5364\n",
            "Epoch 57/150\n",
            "104/104 [==============================] - 1s 14ms/step - loss: 1.9065 - accuracy: 0.5683\n",
            "Epoch 58/150\n",
            "104/104 [==============================] - 1s 14ms/step - loss: 1.8199 - accuracy: 0.5833\n",
            "Epoch 59/150\n",
            "104/104 [==============================] - 1s 14ms/step - loss: 1.7547 - accuracy: 0.5966\n",
            "Epoch 60/150\n",
            "104/104 [==============================] - 1s 14ms/step - loss: 1.6883 - accuracy: 0.6094\n",
            "Epoch 61/150\n",
            "104/104 [==============================] - 1s 14ms/step - loss: 1.6111 - accuracy: 0.6294\n",
            "Epoch 62/150\n",
            "104/104 [==============================] - 1s 14ms/step - loss: 1.5709 - accuracy: 0.6341\n",
            "Epoch 63/150\n",
            "104/104 [==============================] - 1s 14ms/step - loss: 1.5428 - accuracy: 0.6382\n",
            "Epoch 64/150\n",
            "104/104 [==============================] - 1s 14ms/step - loss: 1.5472 - accuracy: 0.6416\n",
            "Epoch 65/150\n",
            "104/104 [==============================] - 1s 14ms/step - loss: 1.8472 - accuracy: 0.5908\n",
            "Epoch 66/150\n",
            "104/104 [==============================] - 1s 14ms/step - loss: 2.0956 - accuracy: 0.5401\n",
            "Epoch 67/150\n",
            "104/104 [==============================] - 1s 14ms/step - loss: 2.3382 - accuracy: 0.4970\n",
            "Epoch 68/150\n",
            "104/104 [==============================] - 1s 14ms/step - loss: 2.2865 - accuracy: 0.5026\n",
            "Epoch 69/150\n",
            "104/104 [==============================] - 1s 14ms/step - loss: 2.0756 - accuracy: 0.5493\n",
            "Epoch 70/150\n",
            "104/104 [==============================] - 1s 14ms/step - loss: 1.8655 - accuracy: 0.5901\n",
            "Epoch 71/150\n",
            "104/104 [==============================] - 2s 15ms/step - loss: 1.7275 - accuracy: 0.6187\n",
            "Epoch 72/150\n",
            "104/104 [==============================] - 2s 14ms/step - loss: 1.6458 - accuracy: 0.6301\n",
            "Epoch 73/150\n",
            "104/104 [==============================] - 1s 14ms/step - loss: 1.5698 - accuracy: 0.6439\n",
            "Epoch 74/150\n",
            "104/104 [==============================] - 1s 14ms/step - loss: 1.4624 - accuracy: 0.6673\n",
            "Epoch 75/150\n",
            "104/104 [==============================] - 1s 14ms/step - loss: 1.4008 - accuracy: 0.6858\n",
            "Epoch 76/150\n",
            "104/104 [==============================] - 1s 14ms/step - loss: 1.3312 - accuracy: 0.7008\n",
            "Epoch 77/150\n",
            "104/104 [==============================] - 2s 14ms/step - loss: 1.2792 - accuracy: 0.7131\n",
            "Epoch 78/150\n",
            "104/104 [==============================] - 1s 14ms/step - loss: 1.2424 - accuracy: 0.7179\n",
            "Epoch 79/150\n",
            "104/104 [==============================] - 1s 14ms/step - loss: 1.2017 - accuracy: 0.7250\n",
            "Epoch 80/150\n",
            "104/104 [==============================] - 1s 14ms/step - loss: 1.2459 - accuracy: 0.7136\n",
            "Epoch 81/150\n",
            "104/104 [==============================] - 1s 14ms/step - loss: 1.2476 - accuracy: 0.7055\n",
            "Epoch 82/150\n",
            "104/104 [==============================] - 1s 14ms/step - loss: 1.2679 - accuracy: 0.6977\n",
            "Epoch 83/150\n",
            "104/104 [==============================] - 1s 14ms/step - loss: 1.2673 - accuracy: 0.6935\n",
            "Epoch 84/150\n",
            "104/104 [==============================] - 1s 14ms/step - loss: 1.3496 - accuracy: 0.6770\n",
            "Epoch 85/150\n",
            "104/104 [==============================] - 1s 14ms/step - loss: 1.7296 - accuracy: 0.6134\n",
            "Epoch 86/150\n",
            "104/104 [==============================] - 1s 14ms/step - loss: 1.8615 - accuracy: 0.5823\n",
            "Epoch 87/150\n",
            "104/104 [==============================] - 1s 14ms/step - loss: 1.6424 - accuracy: 0.6234\n",
            "Epoch 88/150\n",
            "104/104 [==============================] - 1s 14ms/step - loss: 1.5299 - accuracy: 0.6524\n",
            "Epoch 89/150\n",
            "104/104 [==============================] - 1s 14ms/step - loss: 1.2997 - accuracy: 0.6996\n",
            "Epoch 90/150\n",
            "104/104 [==============================] - 1s 14ms/step - loss: 2.6322 - accuracy: 0.5303\n",
            "Epoch 91/150\n",
            "104/104 [==============================] - 1s 14ms/step - loss: 3.8228 - accuracy: 0.3177\n",
            "Epoch 92/150\n",
            "104/104 [==============================] - 1s 14ms/step - loss: 3.1250 - accuracy: 0.3966\n",
            "Epoch 93/150\n",
            "104/104 [==============================] - 1s 14ms/step - loss: 2.5185 - accuracy: 0.4763\n",
            "Epoch 94/150\n",
            "104/104 [==============================] - 1s 14ms/step - loss: 2.0819 - accuracy: 0.5529\n",
            "Epoch 95/150\n",
            "104/104 [==============================] - 1s 14ms/step - loss: 1.7213 - accuracy: 0.6250\n",
            "Epoch 96/150\n",
            "104/104 [==============================] - 1s 14ms/step - loss: 1.4799 - accuracy: 0.6778\n",
            "Epoch 97/150\n",
            "104/104 [==============================] - 1s 14ms/step - loss: 1.3038 - accuracy: 0.7185\n",
            "Epoch 98/150\n",
            "104/104 [==============================] - 1s 14ms/step - loss: 1.1859 - accuracy: 0.7424\n",
            "Epoch 99/150\n",
            "104/104 [==============================] - 1s 14ms/step - loss: 1.2862 - accuracy: 0.7202\n",
            "Epoch 100/150\n",
            "104/104 [==============================] - 2s 14ms/step - loss: 1.8601 - accuracy: 0.5792\n",
            "Epoch 101/150\n",
            "104/104 [==============================] - 1s 14ms/step - loss: 1.6843 - accuracy: 0.6157\n",
            "Epoch 102/150\n",
            "104/104 [==============================] - 1s 14ms/step - loss: 1.5761 - accuracy: 0.6376\n",
            "Epoch 103/150\n",
            "104/104 [==============================] - 1s 14ms/step - loss: 1.4577 - accuracy: 0.6684\n",
            "Epoch 104/150\n",
            "104/104 [==============================] - 1s 14ms/step - loss: 1.3073 - accuracy: 0.6988\n",
            "Epoch 105/150\n",
            "104/104 [==============================] - 2s 14ms/step - loss: 1.1065 - accuracy: 0.7433\n",
            "Epoch 106/150\n",
            "104/104 [==============================] - 1s 14ms/step - loss: 0.9638 - accuracy: 0.7807\n",
            "Epoch 107/150\n",
            "104/104 [==============================] - 1s 14ms/step - loss: 0.9329 - accuracy: 0.7836\n",
            "Epoch 108/150\n",
            "104/104 [==============================] - 1s 14ms/step - loss: 1.0844 - accuracy: 0.7427\n",
            "Epoch 109/150\n",
            "104/104 [==============================] - 1s 14ms/step - loss: 0.9346 - accuracy: 0.7746\n",
            "Epoch 110/150\n",
            "104/104 [==============================] - 1s 14ms/step - loss: 0.8144 - accuracy: 0.8060\n",
            "Epoch 111/150\n",
            "104/104 [==============================] - 1s 14ms/step - loss: 0.7408 - accuracy: 0.8263\n",
            "Epoch 112/150\n",
            "104/104 [==============================] - 2s 14ms/step - loss: 0.6533 - accuracy: 0.8491\n",
            "Epoch 113/150\n",
            "104/104 [==============================] - 1s 14ms/step - loss: 0.6474 - accuracy: 0.8529\n",
            "Epoch 114/150\n",
            "104/104 [==============================] - 1s 14ms/step - loss: 0.6140 - accuracy: 0.8568\n",
            "Epoch 115/150\n",
            "104/104 [==============================] - 1s 14ms/step - loss: 0.5842 - accuracy: 0.8643\n",
            "Epoch 116/150\n",
            "104/104 [==============================] - 1s 14ms/step - loss: 0.6456 - accuracy: 0.8454\n",
            "Epoch 117/150\n",
            "104/104 [==============================] - 1s 14ms/step - loss: 1.1860 - accuracy: 0.7095\n",
            "Epoch 118/150\n",
            "104/104 [==============================] - 1s 14ms/step - loss: 1.7487 - accuracy: 0.6026\n",
            "Epoch 119/150\n",
            "104/104 [==============================] - 1s 14ms/step - loss: 1.6438 - accuracy: 0.6200\n",
            "Epoch 120/150\n",
            "104/104 [==============================] - 1s 14ms/step - loss: 1.1888 - accuracy: 0.7052\n",
            "Epoch 121/150\n",
            "104/104 [==============================] - 1s 14ms/step - loss: 0.9028 - accuracy: 0.7756\n",
            "Epoch 122/150\n",
            "104/104 [==============================] - 1s 14ms/step - loss: 0.7251 - accuracy: 0.8266\n",
            "Epoch 123/150\n",
            "104/104 [==============================] - 1s 14ms/step - loss: 0.7397 - accuracy: 0.8159\n",
            "Epoch 124/150\n",
            "104/104 [==============================] - 1s 14ms/step - loss: 0.7314 - accuracy: 0.8157\n",
            "Epoch 125/150\n",
            "104/104 [==============================] - 1s 14ms/step - loss: 0.6083 - accuracy: 0.8514\n",
            "Epoch 126/150\n",
            "104/104 [==============================] - 1s 14ms/step - loss: 0.5119 - accuracy: 0.8722\n",
            "Epoch 127/150\n",
            "104/104 [==============================] - 2s 15ms/step - loss: 0.4228 - accuracy: 0.8961\n",
            "Epoch 128/150\n",
            "104/104 [==============================] - 1s 14ms/step - loss: 0.3735 - accuracy: 0.9157\n",
            "Epoch 129/150\n",
            "104/104 [==============================] - 1s 14ms/step - loss: 0.3388 - accuracy: 0.9250\n",
            "Epoch 130/150\n",
            "104/104 [==============================] - 1s 14ms/step - loss: 0.3071 - accuracy: 0.9307\n",
            "Epoch 131/150\n",
            "104/104 [==============================] - 1s 14ms/step - loss: 0.2879 - accuracy: 0.9383\n",
            "Epoch 132/150\n",
            "104/104 [==============================] - 1s 14ms/step - loss: 0.2840 - accuracy: 0.9372\n",
            "Epoch 133/150\n",
            "104/104 [==============================] - 1s 14ms/step - loss: 0.3448 - accuracy: 0.9168\n",
            "Epoch 134/150\n",
            "104/104 [==============================] - 2s 14ms/step - loss: 0.4582 - accuracy: 0.8811\n",
            "Epoch 135/150\n",
            "104/104 [==============================] - 1s 14ms/step - loss: 0.6844 - accuracy: 0.8171\n",
            "Epoch 136/150\n",
            "104/104 [==============================] - 1s 14ms/step - loss: 1.0549 - accuracy: 0.7354\n",
            "Epoch 137/150\n",
            "104/104 [==============================] - 1s 14ms/step - loss: 1.1144 - accuracy: 0.7203\n",
            "Epoch 138/150\n",
            "104/104 [==============================] - 1s 14ms/step - loss: 1.0749 - accuracy: 0.7351\n",
            "Epoch 139/150\n",
            "104/104 [==============================] - 1s 14ms/step - loss: 0.9169 - accuracy: 0.7703\n",
            "Epoch 140/150\n",
            "104/104 [==============================] - 1s 14ms/step - loss: 0.7359 - accuracy: 0.8078\n",
            "Epoch 141/150\n",
            "104/104 [==============================] - 1s 14ms/step - loss: 0.5883 - accuracy: 0.8486\n",
            "Epoch 142/150\n",
            "104/104 [==============================] - 1s 14ms/step - loss: 0.4637 - accuracy: 0.8857\n",
            "Epoch 143/150\n",
            "104/104 [==============================] - 1s 14ms/step - loss: 0.3635 - accuracy: 0.9105\n",
            "Epoch 144/150\n",
            "104/104 [==============================] - 1s 14ms/step - loss: 0.3149 - accuracy: 0.9245\n",
            "Epoch 145/150\n",
            "104/104 [==============================] - 1s 14ms/step - loss: 0.3510 - accuracy: 0.9151\n",
            "Epoch 146/150\n",
            "104/104 [==============================] - 1s 14ms/step - loss: 0.3643 - accuracy: 0.9133\n",
            "Epoch 147/150\n",
            "104/104 [==============================] - 1s 14ms/step - loss: 0.3134 - accuracy: 0.9211\n",
            "Epoch 148/150\n",
            "104/104 [==============================] - 2s 15ms/step - loss: 0.3017 - accuracy: 0.9284\n",
            "Epoch 149/150\n",
            "104/104 [==============================] - 1s 14ms/step - loss: 0.4222 - accuracy: 0.8925\n",
            "Epoch 150/150\n",
            "104/104 [==============================] - 1s 14ms/step - loss: 0.5392 - accuracy: 0.8596\n"
          ]
        },
        {
          "output_type": "execute_result",
          "data": {
            "text/plain": [
              "<keras.callbacks.History at 0x7f0ab036acd0>"
            ]
          },
          "metadata": {},
          "execution_count": 24
        }
      ]
    },
    {
      "cell_type": "markdown",
      "source": [
        "###Infer"
      ],
      "metadata": {
        "id": "A0zlsJOwjs1R"
      }
    },
    {
      "cell_type": "code",
      "source": [
        "inputSequences[0]"
      ],
      "metadata": {
        "colab": {
          "base_uri": "https://localhost:8080/"
        },
        "id": "A8JSfKXGk047",
        "outputId": "f144ee9d-916d-44a4-cd42-f9057dea84fb"
      },
      "execution_count": 33,
      "outputs": [
        {
          "output_type": "execute_result",
          "data": {
            "text/plain": [
              "array([   7,   36,  201,  309,    8,  667,  668,  201,  160,  428, 1236,\n",
              "        536,   83, 1237, 1238,   17,  140,  141,   38, 1239,   67,    7,\n",
              "         36,  119,  892,  201,  669,  670, 1240,  309,    8, 1961,  667,\n",
              "        668, 1962,  671, 1963,  201, 1964,  537,  893,    7,   36,  201,\n",
              "        309,    8,  672, 1241, 1242,  538])"
            ]
          },
          "metadata": {},
          "execution_count": 33
        }
      ]
    },
    {
      "cell_type": "code",
      "source": [
        "# Input sequence for testing\n",
        "input_test=inputSequences[0]\n",
        " \n",
        "# Using Model to generate next 50 words\n",
        "predicted_words=list()\n",
        "for i in range(50):\n",
        "  # Get the prediction of the next word (integer number)\n",
        "  pred = model.predict(np.reshape(input_test,(1,seq_length)), verbose=0)\n",
        "  \n",
        "  # Get the next input sequence by appending the predicted word and remove the first word\n",
        "  input_test= np.append(input_test,np.argmax(pred[0]))\n",
        "  input_test=input_test[1:]\n",
        "  \n",
        "  # Convert integer value to word and append it to the list\n",
        "  predicted_words.append(tokenizer.index_word[np.argmax(pred[0])])\n",
        " \n",
        "print('The input sequence: ')\n",
        "print(' '.join(words[:50]))  \n",
        " \n",
        "print('\\nThe original words sequence: ')\n",
        "print(' '.join(words[50:100]))\n",
        "\n",
        "print('\\nThe words sequence generated by the Model: ')\n",
        "print(' '.join(predicted_words))\n"
      ],
      "metadata": {
        "colab": {
          "base_uri": "https://localhost:8080/"
        },
        "id": "6b8c4QOnjuCU",
        "outputId": "a8255e01-da21-4cca-900c-af5ed496aaa6"
      },
      "execution_count": 42,
      "outputs": [
        {
          "output_type": "stream",
          "name": "stdout",
          "text": [
            "The input sequence: \n",
            "project gutenberg ebook battles sea rm ballantyne ebook use anyone anywhere cost almost restrictions whatsoever may copy give away reuse terms project gutenberg license included ebook online wwwgutenbergorg title battles sea author rm ballantyne release date june ebook language english start project gutenberg ebook battles sea produced nick hodson london\n",
            "\n",
            "The original words sequence: \n",
            "england battles sea rm ballantyne chapter one heroes lifeboat rocket skirmishes subject generally ought known english boys terrible costly war british nation times engaged intervals peace mark course war cessations hostilities brief periods treaties peace war knife character quarter neither given sought foe unfeeling unrelenting wastes time diplomatic preliminaries scorns\n",
            "\n",
            "The words sequence generated by the Model: \n",
            "england battles sea preserve project electronic electronic works follow copy means exporting copies work web using web specified need official medium forth notice public domain collection project gutenberg paid help editions renamed creating works freely fairbanks ak electronic works wwwpglaforg section information project gutenberg literary archive foundation project gutenberg literary\n"
          ]
        }
      ]
    },
    {
      "cell_type": "markdown",
      "source": [
        "###Improve plan\n",
        "\n",
        "\n",
        "*   Use pretrain embedding such as Bert\n",
        "*   Stemming, Lematization \n",
        "*   Bigger Dataset or Augumentation\n",
        "\n"
      ],
      "metadata": {
        "id": "9aelO1dGnBdQ"
      }
    }
  ]
}